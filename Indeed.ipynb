{
 "cells": [
  {
   "cell_type": "markdown",
   "metadata": {},
   "source": [
    "# Indeed Data Scraping Project\n",
    "The goal of this project is to automate the Indeed Job searching process by allowing the user to input a city of their choice and returning a CSV file containing the cleaned job listings in the first 10 pages on Indeed. This will make the job searching process much easier for the user. The data scraped from the Indeed website can also be used to create an awesome dataframe for some data science project. An example would be to find and compare the salaries and ratings quartiles of data scientist positions in different cities."
   ]
  },
  {
   "cell_type": "markdown",
   "metadata": {},
   "source": [
    "## Import Statements"
   ]
  },
  {
   "cell_type": "code",
   "execution_count": 26,
   "metadata": {},
   "outputs": [],
   "source": [
    "from bs4 import BeautifulSoup as BSoup\n",
    "import requests\n",
    "import pandas as pd"
   ]
  },
  {
   "cell_type": "markdown",
   "metadata": {},
   "source": [
    "## Creating our Response and BeautifulSoup objects\n",
    "Let's first start by attempting to create a dataframe from just one Indeed page URL. Note this is a sample URL."
   ]
  },
  {
   "cell_type": "code",
   "execution_count": 27,
   "metadata": {},
   "outputs": [
    {
     "name": "stdout",
     "output_type": "stream",
     "text": [
      "<Response [200]>\n"
     ]
    }
   ],
   "source": [
    "URL = \"https://www.indeed.com/q-Data-Scientist-l-San-Francisco,-CA-jobs.html?vjk=bc7c0e642f6453f4\"\n",
    "request = requests.get(URL)\n",
    "print(request)"
   ]
  },
  {
   "cell_type": "markdown",
   "metadata": {},
   "source": [
    "Awesome! We got a response code 200, meaning that our request to the webpage was successful! Let's now view the HTML of the webpage and use BeautifulSoup to make it look nicer. I will comment out the prettify statement, which prints out a nice version of the HTML, so it won't display the html code because it is very, very long :) If you are interested in what it looks like, feel free to copy paste the URL into your browser, right click the webpage, and click Inspect. "
   ]
  },
  {
   "cell_type": "code",
   "execution_count": 28,
   "metadata": {},
   "outputs": [],
   "source": [
    "page_html = BSoup(request.text, \"html.parser\")\n",
    "# page_html.prettify()"
   ]
  },
  {
   "cell_type": "markdown",
   "metadata": {},
   "source": [
    "Let's check how many job listings there are on this one webpage (not counting all the other pages for the listings). We will call these each of these listings \"cotainers\" since they look like separate boxes when inspecting the page."
   ]
  },
  {
   "cell_type": "code",
   "execution_count": 29,
   "metadata": {},
   "outputs": [
    {
     "data": {
      "text/plain": [
       "16"
      ]
     },
     "execution_count": 29,
     "metadata": {},
     "output_type": "execute_result"
    }
   ],
   "source": [
    "containers = page_html.findAll(name=\"div\", attrs={\"class\": \"row\"})\n",
    "len(containers)"
   ]
  },
  {
   "cell_type": "markdown",
   "metadata": {},
   "source": [
    "It looks like there are 15 job from this sample URL!\n",
    "## Extracting data by looking at the HTML tags from the BeautifulSoup object\n",
    "Let's start out by extracting the job title."
   ]
  },
  {
   "cell_type": "code",
   "execution_count": 30,
   "metadata": {},
   "outputs": [
    {
     "data": {
      "text/plain": [
       "['Data Scientist',\n",
       " 'Data Scientist',\n",
       " 'Data Solutions Sr. Consultant/Personalization Artificial Intelligence/Machine Learning (AI/ML) - Data Mgmt Sr. Consultant',\n",
       " 'Machine Learning Developer',\n",
       " 'Senior Machine Learning Engineer',\n",
       " 'Associate Data Scientist I',\n",
       " 'Data Scientist',\n",
       " 'Research Data Scientist',\n",
       " 'Data Scientist: Data Visualization',\n",
       " 'Data Scientist Entry Level - Pathrise Recruiting Partners',\n",
       " 'Junior Data Scientist - Pathrise Recruiting Partners',\n",
       " 'Data Scientist',\n",
       " 'Data Scientist',\n",
       " 'Data Scientist / Quantitative Research',\n",
       " 'Data Scientist',\n",
       " 'Data Scientist']"
      ]
     },
     "execution_count": 30,
     "metadata": {},
     "output_type": "execute_result"
    }
   ],
   "source": [
    "# Scrapes the job titles from the BeautifulSoup object\n",
    "def extract_job_title_from_result(soup): \n",
    "    jobs = []\n",
    "    for container in containers:\n",
    "        for a in container.find_all(name=\"a\", attrs={\"data-tn-element\": \"jobTitle\"}):\n",
    "            jobs.append(a[\"title\"])\n",
    "    return jobs\n",
    "\n",
    "extract_job_title_from_result(page_html)"
   ]
  },
  {
   "cell_type": "markdown",
   "metadata": {},
   "source": [
    "Let's do the same for the company."
   ]
  },
  {
   "cell_type": "code",
   "execution_count": 31,
   "metadata": {},
   "outputs": [
    {
     "data": {
      "text/plain": [
       "['Triplebyte',\n",
       " 'Global Fishing Watch',\n",
       " 'Wells Fargo Bank',\n",
       " 'Tailored Management',\n",
       " 'Pyramid Consulting, Inc',\n",
       " 'Levi Strauss & Co.',\n",
       " 'project AI',\n",
       " 'University of California San Francisco',\n",
       " 'Kaiser Permanente',\n",
       " 'Pathrise',\n",
       " 'Pathrise',\n",
       " 'Common Networks',\n",
       " 'Applied Technology & Science (A-T-S)',\n",
       " 'PicnicHealth',\n",
       " 'Yelp',\n",
       " 'Blue Owl']"
      ]
     },
     "execution_count": 31,
     "metadata": {},
     "output_type": "execute_result"
    }
   ],
   "source": [
    "# Scrapes the company from the BeautifulSoup object\n",
    "def extract_company_from_result(soup): \n",
    "    companies = []\n",
    "    for container in containers:\n",
    "        company = container.find_all(name=\"span\", attrs={\"class\": \"company\"})\n",
    "        if len(company) > 0:\n",
    "            for b in company:\n",
    "                companies.append(b.text.strip())\n",
    "        else:\n",
    "            test2 = div.find_all(name=\"span\", attrs={\"class\": \"result-link-source\"})\n",
    "            for span in test2:\n",
    "                companies.append(span.text.strip())\n",
    "    return(companies)\n",
    " \n",
    "extract_company_from_result(page_html)"
   ]
  },
  {
   "cell_type": "markdown",
   "metadata": {},
   "source": [
    "Let's do the same for the salary."
   ]
  },
  {
   "cell_type": "code",
   "execution_count": 32,
   "metadata": {},
   "outputs": [
    {
     "data": {
      "text/plain": [
       "['$145,000 - $225,000 a year',\n",
       " '$45 - $65 an hour',\n",
       " 'Not Available',\n",
       " 'Not Available',\n",
       " 'Not Available',\n",
       " 'Not Available',\n",
       " 'Not Available',\n",
       " 'Not Available',\n",
       " 'Not Available',\n",
       " 'Not Available',\n",
       " 'Not Available',\n",
       " 'Not Available',\n",
       " 'Not Available',\n",
       " 'Not Available',\n",
       " 'Not Available',\n",
       " '$250,000 - $375,000 a year']"
      ]
     },
     "execution_count": 32,
     "metadata": {},
     "output_type": "execute_result"
    }
   ],
   "source": [
    "# Scrapes the salary from the BeautifulSoup object\n",
    "def extract_salary_from_result(soup): \n",
    "    salaries = []\n",
    "    for div in soup.find_all(name=\"div\", attrs={\"class\": \"row\"}):\n",
    "        div_two = div.find(name=\"span\", attrs={'class': \"salaryText\"})\n",
    "        if div_two == None:\n",
    "            salaries.append(\"Not Available\")\n",
    "        else:\n",
    "            salaries.append(div_two.text.strip())\n",
    "    return salaries \n",
    "\n",
    "extract_salary_from_result(page_html)"
   ]
  },
  {
   "cell_type": "markdown",
   "metadata": {},
   "source": [
    "Finally, let's do the same for ratings."
   ]
  },
  {
   "cell_type": "code",
   "execution_count": 33,
   "metadata": {},
   "outputs": [
    {
     "data": {
      "text/plain": [
       "['5.0',\n",
       " 'Not Available',\n",
       " '3.7',\n",
       " '3.9',\n",
       " '4.0',\n",
       " '3.9',\n",
       " 'Not Available',\n",
       " '4.2',\n",
       " '4.1',\n",
       " 'Not Available',\n",
       " 'Not Available',\n",
       " 'Not Available',\n",
       " 'Not Available',\n",
       " 'Not Available',\n",
       " '3.5',\n",
       " 'Not Available']"
      ]
     },
     "execution_count": 33,
     "metadata": {},
     "output_type": "execute_result"
    }
   ],
   "source": [
    "# Scrapes the ratings from the BeautifulSoup object\n",
    "def extract_ratings_from_result(soup): \n",
    "    ratings = []\n",
    "    for div in soup.find_all(name=\"div\", attrs={\"class\": \"row\"}):\n",
    "        div_two = div.find(name=\"span\", attrs={'class': \"ratingsContent\"})\n",
    "        if div_two == None:\n",
    "            ratings.append(\"Not Available\")\n",
    "        else:\n",
    "            ratings.append(div_two.text.strip())\n",
    "    return ratings\n",
    "\n",
    "extract_ratings_from_result(page_html)"
   ]
  },
  {
   "cell_type": "markdown",
   "metadata": {},
   "source": [
    "#### Now let's build a dataframe by combining all the information we have so far!"
   ]
  },
  {
   "cell_type": "code",
   "execution_count": 34,
   "metadata": {},
   "outputs": [
    {
     "data": {
      "text/html": [
       "<div>\n",
       "<style scoped>\n",
       "    .dataframe tbody tr th:only-of-type {\n",
       "        vertical-align: middle;\n",
       "    }\n",
       "\n",
       "    .dataframe tbody tr th {\n",
       "        vertical-align: top;\n",
       "    }\n",
       "\n",
       "    .dataframe thead th {\n",
       "        text-align: right;\n",
       "    }\n",
       "</style>\n",
       "<table border=\"1\" class=\"dataframe\">\n",
       "  <thead>\n",
       "    <tr style=\"text-align: right;\">\n",
       "      <th></th>\n",
       "      <th>job_title</th>\n",
       "      <th>company</th>\n",
       "      <th>salary</th>\n",
       "      <th>rating</th>\n",
       "    </tr>\n",
       "  </thead>\n",
       "  <tbody>\n",
       "    <tr>\n",
       "      <th>0</th>\n",
       "      <td>Data Scientist</td>\n",
       "      <td>Triplebyte</td>\n",
       "      <td>$145,000 - $225,000 a year</td>\n",
       "      <td>5.0</td>\n",
       "    </tr>\n",
       "    <tr>\n",
       "      <th>1</th>\n",
       "      <td>Data Scientist</td>\n",
       "      <td>Global Fishing Watch</td>\n",
       "      <td>$45 - $65 an hour</td>\n",
       "      <td>Not Available</td>\n",
       "    </tr>\n",
       "    <tr>\n",
       "      <th>2</th>\n",
       "      <td>Data Solutions Sr. Consultant/Personalization ...</td>\n",
       "      <td>Wells Fargo Bank</td>\n",
       "      <td>Not Available</td>\n",
       "      <td>3.7</td>\n",
       "    </tr>\n",
       "    <tr>\n",
       "      <th>3</th>\n",
       "      <td>Machine Learning Developer</td>\n",
       "      <td>Tailored Management</td>\n",
       "      <td>Not Available</td>\n",
       "      <td>3.9</td>\n",
       "    </tr>\n",
       "    <tr>\n",
       "      <th>4</th>\n",
       "      <td>Senior Machine Learning Engineer</td>\n",
       "      <td>Pyramid Consulting, Inc</td>\n",
       "      <td>Not Available</td>\n",
       "      <td>4.0</td>\n",
       "    </tr>\n",
       "    <tr>\n",
       "      <th>5</th>\n",
       "      <td>Associate Data Scientist I</td>\n",
       "      <td>Levi Strauss &amp; Co.</td>\n",
       "      <td>Not Available</td>\n",
       "      <td>3.9</td>\n",
       "    </tr>\n",
       "    <tr>\n",
       "      <th>6</th>\n",
       "      <td>Data Scientist</td>\n",
       "      <td>project AI</td>\n",
       "      <td>Not Available</td>\n",
       "      <td>Not Available</td>\n",
       "    </tr>\n",
       "    <tr>\n",
       "      <th>7</th>\n",
       "      <td>Research Data Scientist</td>\n",
       "      <td>University of California San Francisco</td>\n",
       "      <td>Not Available</td>\n",
       "      <td>4.2</td>\n",
       "    </tr>\n",
       "    <tr>\n",
       "      <th>8</th>\n",
       "      <td>Data Scientist: Data Visualization</td>\n",
       "      <td>Kaiser Permanente</td>\n",
       "      <td>Not Available</td>\n",
       "      <td>4.1</td>\n",
       "    </tr>\n",
       "    <tr>\n",
       "      <th>9</th>\n",
       "      <td>Data Scientist Entry Level - Pathrise Recruiti...</td>\n",
       "      <td>Pathrise</td>\n",
       "      <td>Not Available</td>\n",
       "      <td>Not Available</td>\n",
       "    </tr>\n",
       "    <tr>\n",
       "      <th>10</th>\n",
       "      <td>Junior Data Scientist - Pathrise Recruiting Pa...</td>\n",
       "      <td>Pathrise</td>\n",
       "      <td>Not Available</td>\n",
       "      <td>Not Available</td>\n",
       "    </tr>\n",
       "    <tr>\n",
       "      <th>11</th>\n",
       "      <td>Data Scientist</td>\n",
       "      <td>Common Networks</td>\n",
       "      <td>Not Available</td>\n",
       "      <td>Not Available</td>\n",
       "    </tr>\n",
       "    <tr>\n",
       "      <th>12</th>\n",
       "      <td>Data Scientist</td>\n",
       "      <td>Applied Technology &amp; Science (A-T-S)</td>\n",
       "      <td>Not Available</td>\n",
       "      <td>Not Available</td>\n",
       "    </tr>\n",
       "    <tr>\n",
       "      <th>13</th>\n",
       "      <td>Data Scientist / Quantitative Research</td>\n",
       "      <td>PicnicHealth</td>\n",
       "      <td>Not Available</td>\n",
       "      <td>Not Available</td>\n",
       "    </tr>\n",
       "    <tr>\n",
       "      <th>14</th>\n",
       "      <td>Data Scientist</td>\n",
       "      <td>Yelp</td>\n",
       "      <td>Not Available</td>\n",
       "      <td>3.5</td>\n",
       "    </tr>\n",
       "    <tr>\n",
       "      <th>15</th>\n",
       "      <td>Data Scientist</td>\n",
       "      <td>Blue Owl</td>\n",
       "      <td>$250,000 - $375,000 a year</td>\n",
       "      <td>Not Available</td>\n",
       "    </tr>\n",
       "  </tbody>\n",
       "</table>\n",
       "</div>"
      ],
      "text/plain": [
       "                                            job_title  \\\n",
       "0                                      Data Scientist   \n",
       "1                                      Data Scientist   \n",
       "2   Data Solutions Sr. Consultant/Personalization ...   \n",
       "3                          Machine Learning Developer   \n",
       "4                    Senior Machine Learning Engineer   \n",
       "5                          Associate Data Scientist I   \n",
       "6                                      Data Scientist   \n",
       "7                             Research Data Scientist   \n",
       "8                  Data Scientist: Data Visualization   \n",
       "9   Data Scientist Entry Level - Pathrise Recruiti...   \n",
       "10  Junior Data Scientist - Pathrise Recruiting Pa...   \n",
       "11                                     Data Scientist   \n",
       "12                                     Data Scientist   \n",
       "13             Data Scientist / Quantitative Research   \n",
       "14                                     Data Scientist   \n",
       "15                                     Data Scientist   \n",
       "\n",
       "                                   company                      salary  \\\n",
       "0                               Triplebyte  $145,000 - $225,000 a year   \n",
       "1                     Global Fishing Watch           $45 - $65 an hour   \n",
       "2                         Wells Fargo Bank               Not Available   \n",
       "3                      Tailored Management               Not Available   \n",
       "4                  Pyramid Consulting, Inc               Not Available   \n",
       "5                       Levi Strauss & Co.               Not Available   \n",
       "6                               project AI               Not Available   \n",
       "7   University of California San Francisco               Not Available   \n",
       "8                        Kaiser Permanente               Not Available   \n",
       "9                                 Pathrise               Not Available   \n",
       "10                                Pathrise               Not Available   \n",
       "11                         Common Networks               Not Available   \n",
       "12    Applied Technology & Science (A-T-S)               Not Available   \n",
       "13                            PicnicHealth               Not Available   \n",
       "14                                    Yelp               Not Available   \n",
       "15                                Blue Owl  $250,000 - $375,000 a year   \n",
       "\n",
       "           rating  \n",
       "0             5.0  \n",
       "1   Not Available  \n",
       "2             3.7  \n",
       "3             3.9  \n",
       "4             4.0  \n",
       "5             3.9  \n",
       "6   Not Available  \n",
       "7             4.2  \n",
       "8             4.1  \n",
       "9   Not Available  \n",
       "10  Not Available  \n",
       "11  Not Available  \n",
       "12  Not Available  \n",
       "13  Not Available  \n",
       "14            3.5  \n",
       "15  Not Available  "
      ]
     },
     "execution_count": 34,
     "metadata": {},
     "output_type": "execute_result"
    }
   ],
   "source": [
    "example_df = pd.DataFrame(\n",
    "    {\"job_title\": extract_job_title_from_result(page_html), \n",
    "    \"company\": extract_company_from_result(page_html),\n",
    "    \"salary\": extract_salary_from_result(page_html),\n",
    "    \"rating\": extract_ratings_from_result(page_html)}\n",
    ") \n",
    "example_df"
   ]
  },
  {
   "cell_type": "markdown",
   "metadata": {},
   "source": [
    "Awesome! It looks good except that we need to clean the salary series since it is not consistent with units (years and hour) and fix the style of the salary text. We won't worry too much about that right now. Let's now try to get all listings from the first 10 pages of the Indeed searches"
   ]
  },
  {
   "cell_type": "markdown",
   "metadata": {},
   "source": [
    "## Looping through the first 10 webpages of a specific city."
   ]
  },
  {
   "cell_type": "code",
   "execution_count": 35,
   "metadata": {},
   "outputs": [],
   "source": [
    "# Limit to first 10 pages counting from 0 in increments of 10 to match the URL pattern\n",
    "limit = 100\n",
    "\n",
    "# Headers for the data we want to extract\n",
    "columns = [\"job_title\", \"company\", \"salary\", \"rating\"]"
   ]
  },
  {
   "cell_type": "code",
   "execution_count": 36,
   "metadata": {
    "scrolled": true
   },
   "outputs": [
    {
     "name": "stdout",
     "output_type": "stream",
     "text": [
      "San Francisco\n"
     ]
    }
   ],
   "source": [
    "# We want the user to be able to input a city of their choice, so we will test it using the input method\n",
    "a = input()\n",
    "city_selection = [a]"
   ]
  },
  {
   "cell_type": "code",
   "execution_count": 37,
   "metadata": {},
   "outputs": [
    {
     "name": "stderr",
     "output_type": "stream",
     "text": [
      "/srv/app/venv/lib/python3.6/site-packages/bs4/__init__.py:146: UserWarning: You provided Unicode markup but also provided a value for from_encoding. Your from_encoding will be ignored.\n",
      "  warnings.warn(\"You provided Unicode markup but also provided a value for from_encoding. Your from_encoding will be ignored.\")\n"
     ]
    }
   ],
   "source": [
    "# Creates a dataframe\n",
    "sample_df = pd.DataFrame(columns=columns)\n",
    "\n",
    "# Loops through the 10 webpages for the selected city and gets the information similar to the functions we created above\n",
    "for city in city_selection:\n",
    "    for start in range(0, limit, 10):\n",
    "        page = requests.get(\"http://www.indeed.com/jobs?q=data+scientist+%2420%2C000&l=\" + str(city) + \"&start=\" + str(start))\n",
    "        soup = BSoup(page.text, \"lxml\", from_encoding=\"utf-8\")\n",
    "        \n",
    "        for div in soup.find_all(name=\"div\", attrs={\"class\": \"row\"}): \n",
    "            num = (len(sample_df) + 1) \n",
    "            job_post = [] \n",
    "            \n",
    "            for a in div.find_all(name=\"a\", attrs={\"data-tn-element\": \"jobTitle\"}):\n",
    "                job_post.append(a[\"title\"])\n",
    "            company = div.find_all(name=\"span\", attrs={\"class\": \"company\"}) \n",
    "            if len(company) > 0: \n",
    "                for b in company:\n",
    "                    job_post.append(b.text.strip()) \n",
    "            else: \n",
    "                test2 = div.find_all(name=\"span\", attrs={\"class\": \"result-link-source\"})\n",
    "                for span in test2:\n",
    "                    job_post.append(span.text)\n",
    "                    \n",
    "            div_two = div.find(name=\"span\", attrs={\"class\": \"salaryText\"})\n",
    "            if div_two == None:\n",
    "                job_post.append(\"Not Available\")\n",
    "            else:\n",
    "                job_post.append(div_two.text.strip())\n",
    "                \n",
    "            div_three = div.find(name=\"span\", attrs={\"class\": \"ratingsContent\"})\n",
    "            if div_three == None:\n",
    "                job_post.append(\"Not Available\")\n",
    "            else:\n",
    "                job_post.append(div_three.text.strip())\n",
    "            \n",
    "            sample_df.loc[num] = job_post"
   ]
  },
  {
   "cell_type": "markdown",
   "metadata": {},
   "source": [
    "Awesome, now that our dataframe is created, let's check it out! We will look at the first and last 5 rows to avoid displaying all of it."
   ]
  },
  {
   "cell_type": "code",
   "execution_count": 39,
   "metadata": {},
   "outputs": [
    {
     "data": {
      "text/html": [
       "<div>\n",
       "<style scoped>\n",
       "    .dataframe tbody tr th:only-of-type {\n",
       "        vertical-align: middle;\n",
       "    }\n",
       "\n",
       "    .dataframe tbody tr th {\n",
       "        vertical-align: top;\n",
       "    }\n",
       "\n",
       "    .dataframe thead th {\n",
       "        text-align: right;\n",
       "    }\n",
       "</style>\n",
       "<table border=\"1\" class=\"dataframe\">\n",
       "  <thead>\n",
       "    <tr style=\"text-align: right;\">\n",
       "      <th></th>\n",
       "      <th>job_title</th>\n",
       "      <th>company</th>\n",
       "      <th>salary</th>\n",
       "      <th>rating</th>\n",
       "    </tr>\n",
       "  </thead>\n",
       "  <tbody>\n",
       "    <tr>\n",
       "      <th>1</th>\n",
       "      <td>Data Scientist</td>\n",
       "      <td>Triplebyte</td>\n",
       "      <td>$145,000 - $225,000 a year</td>\n",
       "      <td>5.0</td>\n",
       "    </tr>\n",
       "    <tr>\n",
       "      <th>2</th>\n",
       "      <td>Data Scientist</td>\n",
       "      <td>Global Fishing Watch</td>\n",
       "      <td>$45 - $65 an hour</td>\n",
       "      <td>Not Available</td>\n",
       "    </tr>\n",
       "    <tr>\n",
       "      <th>3</th>\n",
       "      <td>Data Scientist</td>\n",
       "      <td>Blue Owl</td>\n",
       "      <td>$250,000 - $375,000 a year</td>\n",
       "      <td>Not Available</td>\n",
       "    </tr>\n",
       "    <tr>\n",
       "      <th>4</th>\n",
       "      <td>Associate Data Scientist I</td>\n",
       "      <td>Levi Strauss &amp; Co.</td>\n",
       "      <td>Not Available</td>\n",
       "      <td>3.9</td>\n",
       "    </tr>\n",
       "    <tr>\n",
       "      <th>5</th>\n",
       "      <td>Data Scientist</td>\n",
       "      <td>project AI</td>\n",
       "      <td>Not Available</td>\n",
       "      <td>Not Available</td>\n",
       "    </tr>\n",
       "  </tbody>\n",
       "</table>\n",
       "</div>"
      ],
      "text/plain": [
       "                    job_title               company  \\\n",
       "1              Data Scientist            Triplebyte   \n",
       "2              Data Scientist  Global Fishing Watch   \n",
       "3              Data Scientist              Blue Owl   \n",
       "4  Associate Data Scientist I    Levi Strauss & Co.   \n",
       "5              Data Scientist            project AI   \n",
       "\n",
       "                       salary         rating  \n",
       "1  $145,000 - $225,000 a year            5.0  \n",
       "2           $45 - $65 an hour  Not Available  \n",
       "3  $250,000 - $375,000 a year  Not Available  \n",
       "4               Not Available            3.9  \n",
       "5               Not Available  Not Available  "
      ]
     },
     "execution_count": 39,
     "metadata": {},
     "output_type": "execute_result"
    }
   ],
   "source": [
    "sample_df.head()"
   ]
  },
  {
   "cell_type": "code",
   "execution_count": 40,
   "metadata": {},
   "outputs": [
    {
     "data": {
      "text/html": [
       "<div>\n",
       "<style scoped>\n",
       "    .dataframe tbody tr th:only-of-type {\n",
       "        vertical-align: middle;\n",
       "    }\n",
       "\n",
       "    .dataframe tbody tr th {\n",
       "        vertical-align: top;\n",
       "    }\n",
       "\n",
       "    .dataframe thead th {\n",
       "        text-align: right;\n",
       "    }\n",
       "</style>\n",
       "<table border=\"1\" class=\"dataframe\">\n",
       "  <thead>\n",
       "    <tr style=\"text-align: right;\">\n",
       "      <th></th>\n",
       "      <th>job_title</th>\n",
       "      <th>company</th>\n",
       "      <th>salary</th>\n",
       "      <th>rating</th>\n",
       "    </tr>\n",
       "  </thead>\n",
       "  <tbody>\n",
       "    <tr>\n",
       "      <th>147</th>\n",
       "      <td>Software Engineer (Machine Learning)</td>\n",
       "      <td>Wavely</td>\n",
       "      <td>$117,946 - $144,156 a year</td>\n",
       "      <td>Not Available</td>\n",
       "    </tr>\n",
       "    <tr>\n",
       "      <th>148</th>\n",
       "      <td>Data Scientist, Applied Machine Learning - Bay...</td>\n",
       "      <td>Tempus</td>\n",
       "      <td>Not Available</td>\n",
       "      <td>3.2</td>\n",
       "    </tr>\n",
       "    <tr>\n",
       "      <th>149</th>\n",
       "      <td>Data Science Manager- Health</td>\n",
       "      <td>Twitter</td>\n",
       "      <td>Not Available</td>\n",
       "      <td>4.1</td>\n",
       "    </tr>\n",
       "    <tr>\n",
       "      <th>150</th>\n",
       "      <td>Data Scientist - Global Business Operations</td>\n",
       "      <td>Splunk</td>\n",
       "      <td>Not Available</td>\n",
       "      <td>4.2</td>\n",
       "    </tr>\n",
       "    <tr>\n",
       "      <th>151</th>\n",
       "      <td>Data Engineer - Python Programmer</td>\n",
       "      <td>Mondo</td>\n",
       "      <td>Not Available</td>\n",
       "      <td>Not Available</td>\n",
       "    </tr>\n",
       "  </tbody>\n",
       "</table>\n",
       "</div>"
      ],
      "text/plain": [
       "                                             job_title  company  \\\n",
       "147               Software Engineer (Machine Learning)   Wavely   \n",
       "148  Data Scientist, Applied Machine Learning - Bay...   Tempus   \n",
       "149                       Data Science Manager- Health  Twitter   \n",
       "150        Data Scientist - Global Business Operations   Splunk   \n",
       "151                  Data Engineer - Python Programmer    Mondo   \n",
       "\n",
       "                         salary         rating  \n",
       "147  $117,946 - $144,156 a year  Not Available  \n",
       "148               Not Available            3.2  \n",
       "149               Not Available            4.1  \n",
       "150               Not Available            4.2  \n",
       "151               Not Available  Not Available  "
      ]
     },
     "execution_count": 40,
     "metadata": {},
     "output_type": "execute_result"
    }
   ],
   "source": [
    "sample_df.tail()"
   ]
  },
  {
   "cell_type": "markdown",
   "metadata": {},
   "source": [
    "## Data Cleaning"
   ]
  },
  {
   "cell_type": "markdown",
   "metadata": {},
   "source": [
    "Let's first fix the salary series since there is a bolding issue with the Markdown concatenation of the '$', the first number of the range, and '-'."
   ]
  },
  {
   "cell_type": "code",
   "execution_count": 43,
   "metadata": {},
   "outputs": [],
   "source": [
    "lst = []\n",
    "\n",
    "for i in range(1, len(sample_df['salary']) + 1):\n",
    "    # 6 figure salary a year with range\n",
    "    if len(sample_df['salary'][i]) == 26:\n",
    "        lst.append(sample_df['salary'][i][0:8] + ' - ' + sample_df['salary'][i][12:19] + ' a year')\n",
    "        \n",
    "    # 5 figure salary a year with range\n",
    "    elif len(sample_df['salary'][i]) == 25:\n",
    "        lst.append(sample_df['salary'][i][0:7] + ' - ' + sample_df['salary'][i][11:18] + ' a year')\n",
    "        \n",
    "    # 6 figure salary a year no range\n",
    "    elif len(sample_df['salary'][i]) == 15:\n",
    "        lst.append(sample_df['salary'][i][0:8] + ' a year')\n",
    "        \n",
    "    # 2 figure salary a hour no range\n",
    "    elif len(sample_df['salary'][i]) == 17:\n",
    "        lst.append(sample_df['salary'][i][0:3] + ' - ' + sample_df['salary'][i][7:9] + ' an hour')\n",
    "        \n",
    "    # a 3 salary figure a hour no range\n",
    "    elif len(sample_df['salary'][i]) == 18:\n",
    "        lst.append(sample_df['salary'][i][0:3] + ' - ' + sample_df['salary'][i][7:9] + ' an hour')\n",
    "        \n",
    "    # 4 figure salary a month no range\n",
    "    elif len(sample_df['salary'][i]) == 14:\n",
    "        lst.append(sample_df['salary'][i][0:6] + ' a month')\n",
    "        \n",
    "    else:\n",
    "        lst.append(sample_df['salary'][i])\n",
    "        \n",
    "sample_df['salary'] = lst"
   ]
  },
  {
   "cell_type": "code",
   "execution_count": 44,
   "metadata": {},
   "outputs": [
    {
     "data": {
      "text/html": [
       "<div>\n",
       "<style scoped>\n",
       "    .dataframe tbody tr th:only-of-type {\n",
       "        vertical-align: middle;\n",
       "    }\n",
       "\n",
       "    .dataframe tbody tr th {\n",
       "        vertical-align: top;\n",
       "    }\n",
       "\n",
       "    .dataframe thead th {\n",
       "        text-align: right;\n",
       "    }\n",
       "</style>\n",
       "<table border=\"1\" class=\"dataframe\">\n",
       "  <thead>\n",
       "    <tr style=\"text-align: right;\">\n",
       "      <th></th>\n",
       "      <th>job_title</th>\n",
       "      <th>company</th>\n",
       "      <th>salary</th>\n",
       "      <th>rating</th>\n",
       "    </tr>\n",
       "  </thead>\n",
       "  <tbody>\n",
       "    <tr>\n",
       "      <th>1</th>\n",
       "      <td>Data Scientist</td>\n",
       "      <td>Triplebyte</td>\n",
       "      <td>$145,00 - 225,000 a year</td>\n",
       "      <td>5.0</td>\n",
       "    </tr>\n",
       "    <tr>\n",
       "      <th>2</th>\n",
       "      <td>Data Scientist</td>\n",
       "      <td>Global Fishing Watch</td>\n",
       "      <td>$45 - 65 an hour</td>\n",
       "      <td>Not Available</td>\n",
       "    </tr>\n",
       "    <tr>\n",
       "      <th>3</th>\n",
       "      <td>Data Scientist</td>\n",
       "      <td>Blue Owl</td>\n",
       "      <td>$250,00 - 375,000 a year</td>\n",
       "      <td>Not Available</td>\n",
       "    </tr>\n",
       "    <tr>\n",
       "      <th>4</th>\n",
       "      <td>Associate Data Scientist I</td>\n",
       "      <td>Levi Strauss &amp; Co.</td>\n",
       "      <td>Not Available</td>\n",
       "      <td>3.9</td>\n",
       "    </tr>\n",
       "    <tr>\n",
       "      <th>5</th>\n",
       "      <td>Data Scientist</td>\n",
       "      <td>project AI</td>\n",
       "      <td>Not Available</td>\n",
       "      <td>Not Available</td>\n",
       "    </tr>\n",
       "  </tbody>\n",
       "</table>\n",
       "</div>"
      ],
      "text/plain": [
       "                    job_title               company                    salary  \\\n",
       "1              Data Scientist            Triplebyte  $145,00 - 225,000 a year   \n",
       "2              Data Scientist  Global Fishing Watch          $45 - 65 an hour   \n",
       "3              Data Scientist              Blue Owl  $250,00 - 375,000 a year   \n",
       "4  Associate Data Scientist I    Levi Strauss & Co.             Not Available   \n",
       "5              Data Scientist            project AI             Not Available   \n",
       "\n",
       "          rating  \n",
       "1            5.0  \n",
       "2  Not Available  \n",
       "3  Not Available  \n",
       "4            3.9  \n",
       "5  Not Available  "
      ]
     },
     "execution_count": 44,
     "metadata": {},
     "output_type": "execute_result"
    }
   ],
   "source": [
    "sample_df.head()"
   ]
  },
  {
   "cell_type": "code",
   "execution_count": 45,
   "metadata": {},
   "outputs": [
    {
     "data": {
      "text/html": [
       "<div>\n",
       "<style scoped>\n",
       "    .dataframe tbody tr th:only-of-type {\n",
       "        vertical-align: middle;\n",
       "    }\n",
       "\n",
       "    .dataframe tbody tr th {\n",
       "        vertical-align: top;\n",
       "    }\n",
       "\n",
       "    .dataframe thead th {\n",
       "        text-align: right;\n",
       "    }\n",
       "</style>\n",
       "<table border=\"1\" class=\"dataframe\">\n",
       "  <thead>\n",
       "    <tr style=\"text-align: right;\">\n",
       "      <th></th>\n",
       "      <th>job_title</th>\n",
       "      <th>company</th>\n",
       "      <th>salary</th>\n",
       "      <th>rating</th>\n",
       "    </tr>\n",
       "  </thead>\n",
       "  <tbody>\n",
       "    <tr>\n",
       "      <th>147</th>\n",
       "      <td>Software Engineer (Machine Learning)</td>\n",
       "      <td>Wavely</td>\n",
       "      <td>$117,94 - 144,156 a year</td>\n",
       "      <td>Not Available</td>\n",
       "    </tr>\n",
       "    <tr>\n",
       "      <th>148</th>\n",
       "      <td>Data Scientist, Applied Machine Learning - Bay...</td>\n",
       "      <td>Tempus</td>\n",
       "      <td>Not Available</td>\n",
       "      <td>3.2</td>\n",
       "    </tr>\n",
       "    <tr>\n",
       "      <th>149</th>\n",
       "      <td>Data Science Manager- Health</td>\n",
       "      <td>Twitter</td>\n",
       "      <td>Not Available</td>\n",
       "      <td>4.1</td>\n",
       "    </tr>\n",
       "    <tr>\n",
       "      <th>150</th>\n",
       "      <td>Data Scientist - Global Business Operations</td>\n",
       "      <td>Splunk</td>\n",
       "      <td>Not Available</td>\n",
       "      <td>4.2</td>\n",
       "    </tr>\n",
       "    <tr>\n",
       "      <th>151</th>\n",
       "      <td>Data Engineer - Python Programmer</td>\n",
       "      <td>Mondo</td>\n",
       "      <td>Not Available</td>\n",
       "      <td>Not Available</td>\n",
       "    </tr>\n",
       "  </tbody>\n",
       "</table>\n",
       "</div>"
      ],
      "text/plain": [
       "                                             job_title  company  \\\n",
       "147               Software Engineer (Machine Learning)   Wavely   \n",
       "148  Data Scientist, Applied Machine Learning - Bay...   Tempus   \n",
       "149                       Data Science Manager- Health  Twitter   \n",
       "150        Data Scientist - Global Business Operations   Splunk   \n",
       "151                  Data Engineer - Python Programmer    Mondo   \n",
       "\n",
       "                       salary         rating  \n",
       "147  $117,94 - 144,156 a year  Not Available  \n",
       "148             Not Available            3.2  \n",
       "149             Not Available            4.1  \n",
       "150             Not Available            4.2  \n",
       "151             Not Available  Not Available  "
      ]
     },
     "execution_count": 45,
     "metadata": {},
     "output_type": "execute_result"
    }
   ],
   "source": [
    "sample_df.tail()"
   ]
  },
  {
   "cell_type": "markdown",
   "metadata": {},
   "source": [
    "Next, we are going to clean this data and then convert the dataframe into a CSV file. Let's start by cleaning the salary series to the correct rates. We will convert them into dollars a year. There are a lot of different cases involving different units and ranges, and some cases may not be covered. I will focus on covering cases displayed in San Francisco. We will also make the $ sign consistent among rows and different units.\n",
    "\n",
    "#### Note: the string manipulation below assumes that hourly salaries are two digits and monthly to be in the thousands since salaries for these jobs. We can safely make this assumption for now as annual income for this position is usually 50k-200k."
   ]
  },
  {
   "cell_type": "code",
   "execution_count": 47,
   "metadata": {},
   "outputs": [
    {
     "data": {
      "text/plain": [
       "1       $145,00 - 225,000 a year\n",
       "2      $131,400 - 189,800 a year\n",
       "3       $250,00 - 375,000 a year\n",
       "4                  Not Available\n",
       "5                  Not Available\n",
       "6                  Not Available\n",
       "7                  Not Available\n",
       "8                  Not Available\n",
       "9                  Not Available\n",
       "10                 Not Available\n",
       "11                 Not Available\n",
       "12                 Not Available\n",
       "13                 Not Available\n",
       "14               $120,000 a year\n",
       "15                 Not Available\n",
       "16      $145,00 - 225,000 a year\n",
       "17     $131,400 - 189,800 a year\n",
       "18                 Not Available\n",
       "19                 Not Available\n",
       "20               $120,000 a year\n",
       "21                 Not Available\n",
       "22                 Not Available\n",
       "23                 Not Available\n",
       "24                 Not Available\n",
       "25                 Not Available\n",
       "26                 Not Available\n",
       "27                 Not Available\n",
       "28                 Not Available\n",
       "29      $250,00 - 375,000 a year\n",
       "30                 Not Available\n",
       "                 ...            \n",
       "122                Not Available\n",
       "123                Not Available\n",
       "124                Not Available\n",
       "125                Not Available\n",
       "126                Not Available\n",
       "127                Not Available\n",
       "128                Not Available\n",
       "129                Not Available\n",
       "130                Not Available\n",
       "131                Not Available\n",
       "132                Not Available\n",
       "133                Not Available\n",
       "134                Not Available\n",
       "135                Not Available\n",
       "136                Not Available\n",
       "137                Not Available\n",
       "138                Not Available\n",
       "139     $132,47 - 163,000 a year\n",
       "140                Not Available\n",
       "141                Not Available\n",
       "142                Not Available\n",
       "143                Not Available\n",
       "144                Not Available\n",
       "145                Not Available\n",
       "146                Not Available\n",
       "147     $117,94 - 144,156 a year\n",
       "148                Not Available\n",
       "149                Not Available\n",
       "150                Not Available\n",
       "151                Not Available\n",
       "Name: salary, Length: 151, dtype: object"
      ]
     },
     "execution_count": 47,
     "metadata": {},
     "output_type": "execute_result"
    }
   ],
   "source": [
    "result = sample_df['salary']\n",
    "\n",
    "for index, item in enumerate(sample_df[\"salary\"]):\n",
    "    # Ranges in hour -> convert to year assuming 8 hrs a day, 5 times a week\n",
    "    if \"hour\" in item and '-' in item:\n",
    "        lower = int(item[1:3])*8*365\n",
    "        upper = int(item[6:8])*8*365\n",
    "        result[index + 1] = \"$\" + \"{:,}\".format(lower) + \" - \" + \"{:,}\".format(upper) + \" a year\"\n",
    "        \n",
    "    # No range in hour -> convert to year assuming 8 hrs a day, 5 times a week\n",
    "    elif \"hour\" in item and '-' not in item:\n",
    "        salary = int(item[1:3])*8*365\n",
    "        result[index + 1] = \"$\" + \"{:,}\".format(salary) + \" a year\"\n",
    "        \n",
    "    # No range in month -> convert to year assuming 8 hrs a day, 5 times a week\n",
    "    elif 'month' in item:\n",
    "        no_range = int(item[1:2] + item[3:6])*12\n",
    "        result[index + 1] = \"$\" + \"{:,}\".format(no_range) + \" a year\"\n",
    "        \n",
    "    # Already in year\n",
    "    else:\n",
    "        result[index + 1] = item\n",
    "        \n",
    "result"
   ]
  },
  {
   "cell_type": "markdown",
   "metadata": {},
   "source": [
    "Let's check our dataframe now for our conversion rates, which should all be $ a year."
   ]
  },
  {
   "cell_type": "code",
   "execution_count": 49,
   "metadata": {},
   "outputs": [
    {
     "data": {
      "text/html": [
       "<div>\n",
       "<style scoped>\n",
       "    .dataframe tbody tr th:only-of-type {\n",
       "        vertical-align: middle;\n",
       "    }\n",
       "\n",
       "    .dataframe tbody tr th {\n",
       "        vertical-align: top;\n",
       "    }\n",
       "\n",
       "    .dataframe thead th {\n",
       "        text-align: right;\n",
       "    }\n",
       "</style>\n",
       "<table border=\"1\" class=\"dataframe\">\n",
       "  <thead>\n",
       "    <tr style=\"text-align: right;\">\n",
       "      <th></th>\n",
       "      <th>job_title</th>\n",
       "      <th>company</th>\n",
       "      <th>salary</th>\n",
       "      <th>rating</th>\n",
       "    </tr>\n",
       "  </thead>\n",
       "  <tbody>\n",
       "    <tr>\n",
       "      <th>1</th>\n",
       "      <td>Data Scientist</td>\n",
       "      <td>Triplebyte</td>\n",
       "      <td>$145,00 - 225,000 a year</td>\n",
       "      <td>5.0</td>\n",
       "    </tr>\n",
       "    <tr>\n",
       "      <th>2</th>\n",
       "      <td>Data Scientist</td>\n",
       "      <td>Global Fishing Watch</td>\n",
       "      <td>$131,400 - 189,800 a year</td>\n",
       "      <td>Not Available</td>\n",
       "    </tr>\n",
       "    <tr>\n",
       "      <th>3</th>\n",
       "      <td>Data Scientist</td>\n",
       "      <td>Blue Owl</td>\n",
       "      <td>$250,00 - 375,000 a year</td>\n",
       "      <td>Not Available</td>\n",
       "    </tr>\n",
       "    <tr>\n",
       "      <th>4</th>\n",
       "      <td>Associate Data Scientist I</td>\n",
       "      <td>Levi Strauss &amp; Co.</td>\n",
       "      <td>Not Available</td>\n",
       "      <td>3.9</td>\n",
       "    </tr>\n",
       "    <tr>\n",
       "      <th>5</th>\n",
       "      <td>Data Scientist</td>\n",
       "      <td>project AI</td>\n",
       "      <td>Not Available</td>\n",
       "      <td>Not Available</td>\n",
       "    </tr>\n",
       "  </tbody>\n",
       "</table>\n",
       "</div>"
      ],
      "text/plain": [
       "                    job_title               company  \\\n",
       "1              Data Scientist            Triplebyte   \n",
       "2              Data Scientist  Global Fishing Watch   \n",
       "3              Data Scientist              Blue Owl   \n",
       "4  Associate Data Scientist I    Levi Strauss & Co.   \n",
       "5              Data Scientist            project AI   \n",
       "\n",
       "                      salary         rating  \n",
       "1   $145,00 - 225,000 a year            5.0  \n",
       "2  $131,400 - 189,800 a year  Not Available  \n",
       "3   $250,00 - 375,000 a year  Not Available  \n",
       "4              Not Available            3.9  \n",
       "5              Not Available  Not Available  "
      ]
     },
     "execution_count": 49,
     "metadata": {},
     "output_type": "execute_result"
    }
   ],
   "source": [
    "sample_df.head()"
   ]
  },
  {
   "cell_type": "code",
   "execution_count": 50,
   "metadata": {},
   "outputs": [
    {
     "data": {
      "text/html": [
       "<div>\n",
       "<style scoped>\n",
       "    .dataframe tbody tr th:only-of-type {\n",
       "        vertical-align: middle;\n",
       "    }\n",
       "\n",
       "    .dataframe tbody tr th {\n",
       "        vertical-align: top;\n",
       "    }\n",
       "\n",
       "    .dataframe thead th {\n",
       "        text-align: right;\n",
       "    }\n",
       "</style>\n",
       "<table border=\"1\" class=\"dataframe\">\n",
       "  <thead>\n",
       "    <tr style=\"text-align: right;\">\n",
       "      <th></th>\n",
       "      <th>job_title</th>\n",
       "      <th>company</th>\n",
       "      <th>salary</th>\n",
       "      <th>rating</th>\n",
       "    </tr>\n",
       "  </thead>\n",
       "  <tbody>\n",
       "    <tr>\n",
       "      <th>147</th>\n",
       "      <td>Software Engineer (Machine Learning)</td>\n",
       "      <td>Wavely</td>\n",
       "      <td>$117,94 - 144,156 a year</td>\n",
       "      <td>Not Available</td>\n",
       "    </tr>\n",
       "    <tr>\n",
       "      <th>148</th>\n",
       "      <td>Data Scientist, Applied Machine Learning - Bay...</td>\n",
       "      <td>Tempus</td>\n",
       "      <td>Not Available</td>\n",
       "      <td>3.2</td>\n",
       "    </tr>\n",
       "    <tr>\n",
       "      <th>149</th>\n",
       "      <td>Data Science Manager- Health</td>\n",
       "      <td>Twitter</td>\n",
       "      <td>Not Available</td>\n",
       "      <td>4.1</td>\n",
       "    </tr>\n",
       "    <tr>\n",
       "      <th>150</th>\n",
       "      <td>Data Scientist - Global Business Operations</td>\n",
       "      <td>Splunk</td>\n",
       "      <td>Not Available</td>\n",
       "      <td>4.2</td>\n",
       "    </tr>\n",
       "    <tr>\n",
       "      <th>151</th>\n",
       "      <td>Data Engineer - Python Programmer</td>\n",
       "      <td>Mondo</td>\n",
       "      <td>Not Available</td>\n",
       "      <td>Not Available</td>\n",
       "    </tr>\n",
       "  </tbody>\n",
       "</table>\n",
       "</div>"
      ],
      "text/plain": [
       "                                             job_title  company  \\\n",
       "147               Software Engineer (Machine Learning)   Wavely   \n",
       "148  Data Scientist, Applied Machine Learning - Bay...   Tempus   \n",
       "149                       Data Science Manager- Health  Twitter   \n",
       "150        Data Scientist - Global Business Operations   Splunk   \n",
       "151                  Data Engineer - Python Programmer    Mondo   \n",
       "\n",
       "                       salary         rating  \n",
       "147  $117,94 - 144,156 a year  Not Available  \n",
       "148             Not Available            3.2  \n",
       "149             Not Available            4.1  \n",
       "150             Not Available            4.2  \n",
       "151             Not Available  Not Available  "
      ]
     },
     "execution_count": 50,
     "metadata": {},
     "output_type": "execute_result"
    }
   ],
   "source": [
    "sample_df.tail()"
   ]
  },
  {
   "cell_type": "markdown",
   "metadata": {},
   "source": [
    "Awesome! It looks like it worked properly. For example, line 2 with company Global Fish Watch was converted from 45-65 to 131,400-189,800.\n",
    "Let's now finally convert this Pandas dataframe into a CSV file and check it out!"
   ]
  },
  {
   "cell_type": "code",
   "execution_count": 51,
   "metadata": {},
   "outputs": [],
   "source": [
    "sample_df.to_csv('indeed.csv', index=False)"
   ]
  },
  {
   "cell_type": "markdown",
   "metadata": {},
   "source": [
    "In the future, I would love to finish off the project by ..."
   ]
  },
  {
   "cell_type": "code",
   "execution_count": null,
   "metadata": {},
   "outputs": [],
   "source": []
  }
 ],
 "metadata": {
  "kernelspec": {
   "display_name": "Python 3",
   "language": "python",
   "name": "python3"
  },
  "language_info": {
   "codemirror_mode": {
    "name": "ipython",
    "version": 3
   },
   "file_extension": ".py",
   "mimetype": "text/x-python",
   "name": "python",
   "nbconvert_exporter": "python",
   "pygments_lexer": "ipython3",
   "version": "3.6.9"
  }
 },
 "nbformat": 4,
 "nbformat_minor": 4
}
